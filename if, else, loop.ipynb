{
 "cells": [
  {
   "cell_type": "code",
   "execution_count": 1,
   "id": "efba6c03",
   "metadata": {},
   "outputs": [],
   "source": [
    " d1 = {\"key\" : \"sachin\"}"
   ]
  },
  {
   "cell_type": "code",
   "execution_count": 2,
   "id": "0e4a7f49",
   "metadata": {},
   "outputs": [],
   "source": [
    "d2 = {\"name\" : \"sachin\", \"email\": \"sachinchahaudhary68359@gmail.com\",\"number\": \"7453005506\"}"
   ]
  },
  {
   "cell_type": "code",
   "execution_count": 3,
   "id": "0a75205e",
   "metadata": {},
   "outputs": [
    {
     "data": {
      "text/plain": [
       "{'name': 'sachin',\n",
       " 'email': 'sachinchahaudhary68359@gmail.com',\n",
       " 'number': '7453005506'}"
      ]
     },
     "execution_count": 3,
     "metadata": {},
     "output_type": "execute_result"
    }
   ],
   "source": [
    "d2"
   ]
  },
  {
   "cell_type": "code",
   "execution_count": 5,
   "id": "d05961f6",
   "metadata": {},
   "outputs": [
    {
     "data": {
      "text/plain": [
       "dict_keys(['name', 'email', 'number'])"
      ]
     },
     "execution_count": 5,
     "metadata": {},
     "output_type": "execute_result"
    }
   ],
   "source": [
    "d2.keys()"
   ]
  },
  {
   "cell_type": "code",
   "execution_count": 6,
   "id": "fc145a01",
   "metadata": {},
   "outputs": [
    {
     "data": {
      "text/plain": [
       "'sachin'"
      ]
     },
     "execution_count": 6,
     "metadata": {},
     "output_type": "execute_result"
    }
   ],
   "source": [
    "d2[\"name\"]"
   ]
  },
  {
   "cell_type": "code",
   "execution_count": 9,
   "id": "d2949bb6",
   "metadata": {},
   "outputs": [
    {
     "data": {
      "text/plain": [
       "'sachinchahaudhary68359@gmail.com'"
      ]
     },
     "execution_count": 9,
     "metadata": {},
     "output_type": "execute_result"
    }
   ],
   "source": [
    " d2[\"email\"]"
   ]
  },
  {
   "cell_type": "code",
   "execution_count": 11,
   "id": "1f9ea05f",
   "metadata": {},
   "outputs": [],
   "source": [
    "d5 = {\"company\":\"pwskills\",\"courses\":[\"webdev\",\"data science\",\"java\"]}\n"
   ]
  },
  {
   "cell_type": "code",
   "execution_count": 12,
   "id": "efb75ca9",
   "metadata": {},
   "outputs": [
    {
     "data": {
      "text/plain": [
       "['webdev', 'data science', 'java']"
      ]
     },
     "execution_count": 12,
     "metadata": {},
     "output_type": "execute_result"
    }
   ],
   "source": [
    "d5[\"courses\"]"
   ]
  },
  {
   "cell_type": "code",
   "execution_count": 13,
   "id": "a46bd7f8",
   "metadata": {},
   "outputs": [
    {
     "data": {
      "text/plain": [
       "'data science'"
      ]
     },
     "execution_count": 13,
     "metadata": {},
     "output_type": "execute_result"
    }
   ],
   "source": [
    "d5[\"courses\"][1]"
   ]
  },
  {
   "cell_type": "code",
   "execution_count": 14,
   "id": "135875b2",
   "metadata": {},
   "outputs": [
    {
     "data": {
      "text/plain": [
       "'a'"
      ]
     },
     "execution_count": 14,
     "metadata": {},
     "output_type": "execute_result"
    }
   ],
   "source": [
    "d5[\"courses\"][1][1]"
   ]
  },
  {
   "cell_type": "code",
   "execution_count": 16,
   "id": "fa62da92",
   "metadata": {},
   "outputs": [],
   "source": [
    "d6 = {\"number\":[1,2,34,56],\"assignment\":(1,2,34,567), \"launch date\":\"{28,12,34}\"}"
   ]
  },
  {
   "cell_type": "code",
   "execution_count": 18,
   "id": "437ec504",
   "metadata": {},
   "outputs": [],
   "source": [
    "d6[\"mentor\"]=[\"sudhanshu\",\"krish\",\"anurag\"]"
   ]
  },
  {
   "cell_type": "code",
   "execution_count": 19,
   "id": "d2947425",
   "metadata": {},
   "outputs": [
    {
     "data": {
      "text/plain": [
       "{'number': [1, 2, 34, 56],\n",
       " 'assignment': (1, 2, 34, 567),\n",
       " 'launch date': '{28,12,34}',\n",
       " 'mentor': ['sudhanshu', 'krish', 'anurag']}"
      ]
     },
     "execution_count": 19,
     "metadata": {},
     "output_type": "execute_result"
    }
   ],
   "source": [
    "d6"
   ]
  },
  {
   "cell_type": "code",
   "execution_count": 20,
   "id": "4bdd55cc",
   "metadata": {},
   "outputs": [],
   "source": [
    "del d6[\"number\"]"
   ]
  },
  {
   "cell_type": "code",
   "execution_count": 21,
   "id": "597eaf74",
   "metadata": {},
   "outputs": [
    {
     "data": {
      "text/plain": [
       "{'assignment': (1, 2, 34, 567),\n",
       " 'launch date': '{28,12,34}',\n",
       " 'mentor': ['sudhanshu', 'krish', 'anurag']}"
      ]
     },
     "execution_count": 21,
     "metadata": {},
     "output_type": "execute_result"
    }
   ],
   "source": [
    "d6"
   ]
  },
  {
   "cell_type": "code",
   "execution_count": 23,
   "id": "13ff78bc",
   "metadata": {},
   "outputs": [
    {
     "data": {
      "text/plain": [
       "[('assignment', (1, 2, 34, 567)),\n",
       " ('launch date', '{28,12,34}'),\n",
       " ('mentor', ['sudhanshu', 'krish', 'anurag'])]"
      ]
     },
     "execution_count": 23,
     "metadata": {},
     "output_type": "execute_result"
    }
   ],
   "source": [
    "list(d6.items())"
   ]
  },
  {
   "cell_type": "code",
   "execution_count": 25,
   "id": "4d34f1af",
   "metadata": {},
   "outputs": [
    {
     "data": {
      "text/plain": [
       "[('assignment', (1, 2, 34, 567)),\n",
       " ('launch date', '{28,12,34}'),\n",
       " ('mentor', ['sudhanshu', 'krish', 'anurag'])]"
      ]
     },
     "execution_count": 25,
     "metadata": {},
     "output_type": "execute_result"
    }
   ],
   "source": [
    "list(d6.items())"
   ]
  },
  {
   "cell_type": "code",
   "execution_count": 28,
   "id": "bb4a9c52",
   "metadata": {},
   "outputs": [
    {
     "data": {
      "text/plain": [
       "(1, 2, 34, 567)"
      ]
     },
     "execution_count": 28,
     "metadata": {},
     "output_type": "execute_result"
    }
   ],
   "source": [
    "d6.pop(\"assignment\")"
   ]
  },
  {
   "cell_type": "code",
   "execution_count": 3,
   "id": "2fd5fd4b",
   "metadata": {},
   "outputs": [
    {
     "name": "stdout",
     "output_type": "stream",
     "text": [
      "please enter your marks\t88\n",
      "you will be a part of A0 batch.\n"
     ]
    }
   ],
   "source": [
    "marks = int(input(\"please enter your marks\\t\"))\n",
    "if marks >=80:\n",
    "    print(\"you will be a part of A0 batch.\")\n",
    "elif (marks<80 and marks >= 60):\n",
    "    print(\"you will be a part of A1 batch.\")    \n",
    "elif (marks <60 and marks >=40):\n",
    "    print(\"you will be a part of A2 batch.\")\n",
    "else :\n",
    "    print(\"you will be  part of A3 batch.\")"
   ]
  },
  {
   "cell_type": "code",
   "execution_count": 7,
   "id": "a2acebb2",
   "metadata": {},
   "outputs": [
    {
     "name": "stdout",
     "output_type": "stream",
     "text": [
      "enter the price\t8000\n",
      "i will not purchase\n",
      "This is too much\n"
     ]
    }
   ],
   "source": [
    "price = int(input(\"enter the price\\t\"))\n",
    "if price >1000:\n",
    "    print(\"i will not purchase\")\n",
    "    if price >5000:\n",
    "        print(\"This is too much\")\n",
    "else :\n",
    "    print(\"i will purchase it\")"
   ]
  },
  {
   "cell_type": "code",
   "execution_count": 9,
   "id": "46f3f40d",
   "metadata": {},
   "outputs": [],
   "source": [
    "l = [1,2,3,4,5,6,7,8]\n",
    "l1 = []"
   ]
  },
  {
   "cell_type": "code",
   "execution_count": 10,
   "id": "2d0ceaeb",
   "metadata": {},
   "outputs": [],
   "source": [
    "l1.append(l[0]+1)"
   ]
  },
  {
   "cell_type": "code",
   "execution_count": 11,
   "id": "090fb9c4",
   "metadata": {},
   "outputs": [
    {
     "data": {
      "text/plain": [
       "[2]"
      ]
     },
     "execution_count": 11,
     "metadata": {},
     "output_type": "execute_result"
    }
   ],
   "source": [
    "l1"
   ]
  },
  {
   "cell_type": "code",
   "execution_count": 18,
   "id": "333048dd",
   "metadata": {},
   "outputs": [
    {
     "name": "stdout",
     "output_type": "stream",
     "text": [
      "1\n",
      "2\n",
      "3\n",
      "4\n",
      "5\n",
      "6\n",
      "7\n",
      "8\n"
     ]
    },
    {
     "data": {
      "text/plain": [
       "[2, 3, 4, 5, 6, 7, 8, 9]"
      ]
     },
     "execution_count": 18,
     "metadata": {},
     "output_type": "execute_result"
    }
   ],
   "source": [
    "l1 = []\n",
    "for i in l:\n",
    "    print(i)\n",
    "    l1.append(i+1)\n",
    "l1"
   ]
  },
  {
   "cell_type": "code",
   "execution_count": 21,
   "id": "71c4b586",
   "metadata": {},
   "outputs": [
    {
     "data": {
      "text/plain": [
       "['SACHIN', 'CHAUDHARY', 'COURSE', 'PWSKILLS']"
      ]
     },
     "execution_count": 21,
     "metadata": {},
     "output_type": "execute_result"
    }
   ],
   "source": [
    "l2 = [\"sachin\",\"chaudhary\",\"course\",\"pwskills\"]\n",
    "l3 = []\n",
    "for i in l2:\n",
    "    l3.append(i.upper())\n",
    "l3"
   ]
  },
  {
   "cell_type": "code",
   "execution_count": 34,
   "id": "5c1e3ee8",
   "metadata": {},
   "outputs": [],
   "source": [
    "l4 = [1,2,3,4,5,6,\"sachin\",\"kumar\",234.56,\"abc\"]\n",
    "l5=[]\n",
    "l6 =[]\n",
    "for i in l4:\n",
    "    if type(i)==int or type(i)==float:\n",
    "        l5.append(i)\n",
    "    else:\n",
    "        l6.append(i)\n"
   ]
  },
  {
   "cell_type": "code",
   "execution_count": 32,
   "id": "9f97d46e",
   "metadata": {},
   "outputs": [
    {
     "data": {
      "text/plain": [
       "[1, 2, 3, 4, 5, 6, 7, 8]"
      ]
     },
     "execution_count": 32,
     "metadata": {},
     "output_type": "execute_result"
    }
   ],
   "source": [
    "l5"
   ]
  },
  {
   "cell_type": "code",
   "execution_count": 35,
   "id": "f23b48cf",
   "metadata": {},
   "outputs": [
    {
     "data": {
      "text/plain": [
       "['sachin', 'kumar', 'abc']"
      ]
     },
     "execution_count": 35,
     "metadata": {},
     "output_type": "execute_result"
    }
   ],
   "source": [
    "l6"
   ]
  },
  {
   "cell_type": "code",
   "execution_count": null,
   "id": "bab35ac2",
   "metadata": {},
   "outputs": [],
   "source": []
  }
 ],
 "metadata": {
  "kernelspec": {
   "display_name": "Python 3 (ipykernel)",
   "language": "python",
   "name": "python3"
  },
  "language_info": {
   "codemirror_mode": {
    "name": "ipython",
    "version": 3
   },
   "file_extension": ".py",
   "mimetype": "text/x-python",
   "name": "python",
   "nbconvert_exporter": "python",
   "pygments_lexer": "ipython3",
   "version": "3.11.3"
  }
 },
 "nbformat": 4,
 "nbformat_minor": 5
}
