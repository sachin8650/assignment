{
 "cells": [
  {
   "cell_type": "markdown",
   "id": "926b42bf",
   "metadata": {},
   "source": [
    "Q1.  Explain with an example each when to use a for loop and a while loop.\n"
   ]
  },
  {
   "cell_type": "markdown",
   "id": "21ef203e",
   "metadata": {},
   "source": [
    "For loop is used when the number of iterations is already known. While loop is used when the    number of iterations is already Unknown. In the while loop, it can be repeated at every iteration. To iterate, the range or xrange function is used."
   ]
  },
  {
   "cell_type": "markdown",
   "id": "94fdc268",
   "metadata": {},
   "source": [
    "Q2.  Write a python program to print the sum and product of the first 10 natural numbers using for \n",
    "and while loop. "
   ]
  },
  {
   "cell_type": "code",
   "execution_count": 5,
   "id": "ac5d2f27",
   "metadata": {},
   "outputs": [
    {
     "name": "stdout",
     "output_type": "stream",
     "text": [
      "55\n",
      "3628800\n"
     ]
    }
   ],
   "source": [
    "sum1 = 0\n",
    "fact = 1\n",
    "for i in range(1,11):\n",
    "    sum1 = sum1 +i\n",
    "    fact = fact*i\n",
    "print(sum1)\n",
    "print(fact)\n"
   ]
  },
  {
   "cell_type": "code",
   "execution_count": 8,
   "id": "7090f5ef",
   "metadata": {},
   "outputs": [
    {
     "name": "stdout",
     "output_type": "stream",
     "text": [
      "55\n",
      "3628800\n"
     ]
    }
   ],
   "source": [
    "sum1 = 0\n",
    "fact = 1\n",
    "i = 1\n",
    "while i<=10:\n",
    "    sum1 = sum1+i\n",
    "    fact = fact*i\n",
    "    i +=1\n",
    "print(sum1)\n",
    "print(fact)\n"
   ]
  },
  {
   "cell_type": "markdown",
   "id": "2b761d1f",
   "metadata": {},
   "source": [
    "Q3.  Create a python program to compute the electricity bill for a household.\n",
    "The per-unit charges in rupees are as follows: For the first 100 units, the user will be charged Rs. 4.5 per unit, for the next 100 units, the user will be charged Rs. 6 per unit, and for the next 100 units, the user will be charged Rs. 10 per unit, After 300 units and above the user will be charged Rs. 20 per unit.\n",
    "You are required to take the units of electricity consumed in a month from the user as input.\n",
    "Your program must pass this test case: when the unit of electricity consumed by the user in a month is \n",
    "310, the total electricity bill should be 2250."
   ]
  },
  {
   "cell_type": "code",
   "execution_count": 11,
   "id": "395aa649",
   "metadata": {},
   "outputs": [
    {
     "name": "stdout",
     "output_type": "stream",
     "text": [
      "enter the number of unit310\n",
      "2250\n"
     ]
    }
   ],
   "source": [
    "units = int(input(\"enter the number of unit\"))\n",
    "bill = 0\n",
    "if units <=100:\n",
    "    bill = units*4.5\n",
    "elif units >100 and units<=200:\n",
    "    bill = 450 + (units-100)*6\n",
    "elif units >200 and units<=300:\n",
    "    bill = 450 +600 + (units-200)*10\n",
    "else:\n",
    "    bill = 450+600 +1000 + (units-300)*20\n",
    "print(bill)\n",
    "    "
   ]
  },
  {
   "cell_type": "markdown",
   "id": "816a53b0",
   "metadata": {},
   "source": [
    "Q4. Create a list of numbers from 1 to 100. Use for loop and while loop to calculate the cube of each \n",
    "number and if the cube of that number is divisible by 4 or 5 then append that number in a list and print that list."
   ]
  },
  {
   "cell_type": "code",
   "execution_count": 16,
   "id": "f74d2711",
   "metadata": {},
   "outputs": [
    {
     "data": {
      "text/plain": [
       "[8,\n",
       " 64,\n",
       " 125,\n",
       " 216,\n",
       " 512,\n",
       " 1000,\n",
       " 1728,\n",
       " 2744,\n",
       " 3375,\n",
       " 4096,\n",
       " 5832,\n",
       " 8000,\n",
       " 10648,\n",
       " 13824,\n",
       " 15625,\n",
       " 17576,\n",
       " 21952,\n",
       " 27000,\n",
       " 32768,\n",
       " 39304,\n",
       " 42875,\n",
       " 46656,\n",
       " 54872,\n",
       " 64000,\n",
       " 74088,\n",
       " 85184,\n",
       " 91125,\n",
       " 97336,\n",
       " 110592,\n",
       " 125000,\n",
       " 140608,\n",
       " 157464,\n",
       " 166375,\n",
       " 175616,\n",
       " 195112,\n",
       " 216000,\n",
       " 238328,\n",
       " 262144,\n",
       " 274625,\n",
       " 287496,\n",
       " 314432,\n",
       " 343000,\n",
       " 373248,\n",
       " 405224,\n",
       " 421875,\n",
       " 438976,\n",
       " 474552,\n",
       " 512000,\n",
       " 551368,\n",
       " 592704,\n",
       " 614125,\n",
       " 636056,\n",
       " 681472,\n",
       " 729000,\n",
       " 778688,\n",
       " 830584,\n",
       " 857375,\n",
       " 884736,\n",
       " 941192,\n",
       " 1000000]"
      ]
     },
     "execution_count": 16,
     "metadata": {},
     "output_type": "execute_result"
    }
   ],
   "source": [
    "l = [i for i in range(1,101)]\n",
    "l1 = []\n",
    "for i in l:\n",
    "    if (i**3)%4==0 or (i**3)%5==0:\n",
    "        l1.append(i**3)\n",
    "print(l1)"
   ]
  },
  {
   "cell_type": "code",
   "execution_count": null,
   "id": "64e225de",
   "metadata": {},
   "outputs": [],
   "source": [
    "l1 = []\n",
    "i= 100\n",
    "while i>0:\n",
    "    if (i**3)%4==0 or (i**3)%5==0:\n",
    "        l1.append(i**3)\n",
    "        i = i-1\n",
    "print(l1)"
   ]
  },
  {
   "cell_type": "markdown",
   "id": "15294e12",
   "metadata": {},
   "source": [
    "Q5. Write a program to filter count vowels in the below-given string.\n",
    "\n",
    "string = \"I want to become a data scientist\""
   ]
  },
  {
   "cell_type": "code",
   "execution_count": 22,
   "id": "0a01f4ef",
   "metadata": {},
   "outputs": [
    {
     "data": {
      "text/plain": [
       "12"
      ]
     },
     "execution_count": 22,
     "metadata": {},
     "output_type": "execute_result"
    }
   ],
   "source": [
    "s = \"I want to become a data scientist\"\n",
    "vowel_count= s.count(\"i\") + s.count(\"I\") +s.count(\"a\") + s.count(\"e\") +s.count(\"o\") +s.count(\"u\")\n",
    "vowel_count"
   ]
  },
  {
   "cell_type": "code",
   "execution_count": 23,
   "id": "25000586",
   "metadata": {},
   "outputs": [
    {
     "data": {
      "text/plain": [
       "12"
      ]
     },
     "execution_count": 23,
     "metadata": {},
     "output_type": "execute_result"
    }
   ],
   "source": [
    "s = \"I want to become a data scientist\"\n",
    "count = 0\n",
    "for i in s:\n",
    "    if (i == \"i\") or (i == \"I\") or (i == \"a\") or (i == \"e\") or (i == \"o\") or (i == \"u\"):\n",
    "        count +=1\n",
    "count"
   ]
  },
  {
   "cell_type": "code",
   "execution_count": null,
   "id": "33a9751e",
   "metadata": {},
   "outputs": [],
   "source": []
  }
 ],
 "metadata": {
  "kernelspec": {
   "display_name": "Python 3 (ipykernel)",
   "language": "python",
   "name": "python3"
  },
  "language_info": {
   "codemirror_mode": {
    "name": "ipython",
    "version": 3
   },
   "file_extension": ".py",
   "mimetype": "text/x-python",
   "name": "python",
   "nbconvert_exporter": "python",
   "pygments_lexer": "ipython3",
   "version": "3.11.3"
  }
 },
 "nbformat": 4,
 "nbformat_minor": 5
}
