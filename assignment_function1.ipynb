{
 "cells": [
  {
   "cell_type": "markdown",
   "id": "d2442c62",
   "metadata": {},
   "source": [
    "Q1.  Which keyword is used to create a function? Create a function to return a list of odd numbers in the range of 1 to 25."
   ]
  },
  {
   "cell_type": "code",
   "execution_count": 9,
   "id": "85a9a228",
   "metadata": {},
   "outputs": [],
   "source": [
    "def odd(i):\n",
    "    if i %2 != 0:\n",
    "        return i\n",
    "      "
   ]
  },
  {
   "cell_type": "code",
   "execution_count": 5,
   "id": "26cd77ba",
   "metadata": {},
   "outputs": [
    {
     "data": {
      "text/plain": [
       "[1,\n",
       " None,\n",
       " 3,\n",
       " None,\n",
       " 5,\n",
       " None,\n",
       " 7,\n",
       " None,\n",
       " 9,\n",
       " None,\n",
       " 11,\n",
       " None,\n",
       " 13,\n",
       " None,\n",
       " 15,\n",
       " None,\n",
       " 17,\n",
       " None,\n",
       " 19,\n",
       " None,\n",
       " 21,\n",
       " None,\n",
       " 23,\n",
       " None,\n",
       " 25]"
      ]
     },
     "execution_count": 5,
     "metadata": {},
     "output_type": "execute_result"
    }
   ],
   "source": [
    "\n",
    "l1 =[]\n",
    "for i in range(1,26):\n",
    "    l1.append(odd(i))\n",
    "l1"
   ]
  },
  {
   "cell_type": "code",
   "execution_count": 10,
   "id": "4b058c09",
   "metadata": {},
   "outputs": [
    {
     "data": {
      "text/plain": [
       "[1,\n",
       " None,\n",
       " 3,\n",
       " None,\n",
       " 5,\n",
       " None,\n",
       " 7,\n",
       " None,\n",
       " 9,\n",
       " None,\n",
       " 11,\n",
       " None,\n",
       " 13,\n",
       " None,\n",
       " 15,\n",
       " None,\n",
       " 17,\n",
       " None,\n",
       " 19,\n",
       " None,\n",
       " 21,\n",
       " None,\n",
       " 23,\n",
       " None,\n",
       " 25]"
      ]
     },
     "execution_count": 10,
     "metadata": {},
     "output_type": "execute_result"
    }
   ],
   "source": [
    "l1"
   ]
  },
  {
   "cell_type": "code",
   "execution_count": 5,
   "id": "7341f8c0",
   "metadata": {},
   "outputs": [],
   "source": [
    "l = list(range(1,26))"
   ]
  },
  {
   "cell_type": "code",
   "execution_count": 6,
   "id": "38c40769",
   "metadata": {},
   "outputs": [
    {
     "data": {
      "text/plain": [
       "[1,\n",
       " 2,\n",
       " 3,\n",
       " 4,\n",
       " 5,\n",
       " 6,\n",
       " 7,\n",
       " 8,\n",
       " 9,\n",
       " 10,\n",
       " 11,\n",
       " 12,\n",
       " 13,\n",
       " 14,\n",
       " 15,\n",
       " 16,\n",
       " 17,\n",
       " 18,\n",
       " 19,\n",
       " 20,\n",
       " 21,\n",
       " 22,\n",
       " 23,\n",
       " 24,\n",
       " 25]"
      ]
     },
     "execution_count": 6,
     "metadata": {},
     "output_type": "execute_result"
    }
   ],
   "source": [
    "l"
   ]
  },
  {
   "cell_type": "code",
   "execution_count": 10,
   "id": "4363ddce",
   "metadata": {},
   "outputs": [],
   "source": [
    "def odd(l):\n",
    "    l1=[]\n",
    "    for i in l:\n",
    "        if i%2 != 0:\n",
    "            l1.append(i)\n",
    "    return l1"
   ]
  },
  {
   "cell_type": "code",
   "execution_count": 11,
   "id": "081fe64f",
   "metadata": {},
   "outputs": [
    {
     "data": {
      "text/plain": [
       "[1, 3, 5, 7, 9, 11, 13, 15, 17, 19, 21, 23, 25]"
      ]
     },
     "execution_count": 11,
     "metadata": {},
     "output_type": "execute_result"
    }
   ],
   "source": [
    "odd(l)"
   ]
  },
  {
   "cell_type": "markdown",
   "id": "3d577449",
   "metadata": {},
   "source": [
    "Q2.  Why *args and **kwargs is used in some functions? Create a function each for *args and **kwargs to demonstrate their use."
   ]
  },
  {
   "cell_type": "code",
   "execution_count": 12,
   "id": "078b8c73",
   "metadata": {},
   "outputs": [],
   "source": [
    "def test(*args):\n",
    "    return args"
   ]
  },
  {
   "cell_type": "code",
   "execution_count": 13,
   "id": "70c42bb7",
   "metadata": {},
   "outputs": [
    {
     "data": {
      "text/plain": [
       "(1, 2, 3, 4, 5, 6, 7)"
      ]
     },
     "execution_count": 13,
     "metadata": {},
     "output_type": "execute_result"
    }
   ],
   "source": [
    "test(1,2,3,4,5,6,7)"
   ]
  },
  {
   "cell_type": "code",
   "execution_count": 14,
   "id": "f9fb73ca",
   "metadata": {},
   "outputs": [],
   "source": [
    "def test2(**kwargs):\n",
    "    return kwargs"
   ]
  },
  {
   "cell_type": "code",
   "execution_count": 15,
   "id": "4c87f9fd",
   "metadata": {},
   "outputs": [
    {
     "data": {
      "text/plain": [
       "{'a': [1, 2, 3, 4], 'b': [5, 6, 7, 8]}"
      ]
     },
     "execution_count": 15,
     "metadata": {},
     "output_type": "execute_result"
    }
   ],
   "source": [
    "test2(a = [1,2,3,4],b=[5,6,7,8])"
   ]
  },
  {
   "cell_type": "markdown",
   "id": "0977b2d2",
   "metadata": {},
   "source": [
    "Q3. What is an iterator in python? Name the method used to initialise the iterator object and the method \n",
    "used for iteration. Use these methods to print the first five elements of the given list     [2, 4, 6, 8, 10, 12, 14, \n",
    "16, 18, 20]."
   ]
  },
  {
   "cell_type": "code",
   "execution_count": 22,
   "id": "7af5e404",
   "metadata": {},
   "outputs": [],
   "source": [
    "l =  [2, 4, 6, 8, 10, 12, 14, 16, 18, 20]\n",
    "def test2(a):\n",
    "    i=0\n",
    "    while i<5:\n",
    "        yield a[i]\n",
    "        i+=1"
   ]
  },
  {
   "cell_type": "code",
   "execution_count": 24,
   "id": "f326eac4",
   "metadata": {},
   "outputs": [
    {
     "data": {
      "text/plain": [
       "[2, 4, 6, 8, 10]"
      ]
     },
     "execution_count": 24,
     "metadata": {},
     "output_type": "execute_result"
    }
   ],
   "source": [
    "list(test2(l))"
   ]
  },
  {
   "cell_type": "markdown",
   "id": "0b4b1a00",
   "metadata": {},
   "source": [
    "Q5. Create a generator function for prime numbers less than 1000. Use the next() method to print the \n",
    "first 20 prime numbers."
   ]
  },
  {
   "cell_type": "code",
   "execution_count": 5,
   "id": "e5cd2798",
   "metadata": {},
   "outputs": [
    {
     "ename": "IndentationError",
     "evalue": "unexpected indent (101243514.py, line 25)",
     "output_type": "error",
     "traceback": [
      "\u001b[1;36m  Cell \u001b[1;32mIn[5], line 25\u001b[1;36m\u001b[0m\n\u001b[1;33m    print(next(primes))\u001b[0m\n\u001b[1;37m    ^\u001b[0m\n\u001b[1;31mIndentationError\u001b[0m\u001b[1;31m:\u001b[0m unexpected indent\n"
     ]
    }
   ],
   "source": [
    "def is_prime(n):\n",
    "    if n <= 1:\n",
    "        return False\n",
    "    for i in range(2, int(n**0.5) + 1):\n",
    "        if n % i == 0:\n",
    "            return False\n",
    "    return True\n",
    "\n",
    "def prime_nums_generator():\n",
    "    n = 2\n",
    "    while True:\n",
    "        if is_prime(n):\n",
    "            yield n\n",
    "        n += 1\n",
    "\n",
    "# Create the generator object\n",
    "primes = prime_nums_generator()\n",
    "\n",
    "# Accept input from the user\n",
    "n = int(input(\"Input the number of prime numbers you want to generate? \"))\n",
    "\n",
    "# Generate and print the first 10 prime numbers\n",
    "print(\"First\",n,\"Prime numbers:\")\n",
    "for _ in range(n):\n",
    "    print(next(primes))\n"
   ]
  },
  {
   "cell_type": "markdown",
   "id": "1e3ec3aa",
   "metadata": {},
   "source": [
    "Q6.Write a python program to print the first 10 Fibonacci numbers using a while loop."
   ]
  },
  {
   "cell_type": "code",
   "execution_count": 1,
   "id": "2b8d21d4",
   "metadata": {},
   "outputs": [],
   "source": [
    "def is_fib():\n",
    "    a,b = 0,1\n",
    "    while True:\n",
    "        yield a\n",
    "        a,b = b,a+b"
   ]
  },
  {
   "cell_type": "code",
   "execution_count": 2,
   "id": "60414671",
   "metadata": {},
   "outputs": [],
   "source": [
    "fib = is_fib()"
   ]
  },
  {
   "cell_type": "code",
   "execution_count": 3,
   "id": "daa0f8a4",
   "metadata": {},
   "outputs": [
    {
     "name": "stdout",
     "output_type": "stream",
     "text": [
      "enter the number of fibbonacci series you want10\n",
      "0\n",
      "1\n",
      "1\n",
      "2\n",
      "3\n",
      "5\n",
      "8\n",
      "13\n",
      "21\n",
      "34\n"
     ]
    }
   ],
   "source": [
    "n = int(input(\"enter the number of fibbonacci series you want\"))\n",
    "for i in range(n):\n",
    "    print(next(fib))"
   ]
  },
  {
   "cell_type": "markdown",
   "id": "00e37508",
   "metadata": {},
   "source": [
    "Q7. Write a List Comprehension to iterate through the given string: ‘pwskills’.\n",
    "\n",
    "Expected output: ['p', 'w', 's', 'k', 'i', 'l', 'l', 's']"
   ]
  },
  {
   "cell_type": "code",
   "execution_count": 6,
   "id": "22f6ee54",
   "metadata": {},
   "outputs": [
    {
     "data": {
      "text/plain": [
       "['p', 'w', 's', 'k', 'i', 'l', 'l', 's']"
      ]
     },
     "execution_count": 6,
     "metadata": {},
     "output_type": "execute_result"
    }
   ],
   "source": [
    "s = \"pwskills\"\n",
    "l = []\n",
    "for i in s:\n",
    "    l.append(i)\n",
    "l"
   ]
  },
  {
   "cell_type": "markdown",
   "id": "f849961d",
   "metadata": {},
   "source": [
    "Q8. Write a python program to check whether a given number is Palindrome or not using a while loop."
   ]
  },
  {
   "cell_type": "code",
   "execution_count": 11,
   "id": "85a974d1",
   "metadata": {},
   "outputs": [
    {
     "name": "stdout",
     "output_type": "stream",
     "text": [
      "enter the wordmama\n",
      "the given number is not palindrome\n"
     ]
    }
   ],
   "source": [
    "s = input(\"enter the word\")\n",
    "couter = 1\n",
    "for i in range(len(s)):\n",
    "    if s[i] == s[len(s)-1-i]:\n",
    "        counter = 1\n",
    "    else:\n",
    "        counter = 0\n",
    "if counter ==1:\n",
    "    print(\"the given number is palindrome\")\n",
    "else:\n",
    "    print(\"the given number is not palindrome\")"
   ]
  },
  {
   "cell_type": "markdown",
   "id": "33609928",
   "metadata": {},
   "source": [
    "Q9. Write a code to print odd numbers from 1 to 100 using list comprehension.\n",
    "\n",
    "Note: Use a list comprehension to create a list from 1 to 100 and use another List comprehension to filter \n",
    "out odd numbers"
   ]
  },
  {
   "cell_type": "code",
   "execution_count": 30,
   "id": "964fb58f",
   "metadata": {},
   "outputs": [],
   "source": [
    "l1 = list(range(1,101))"
   ]
  },
  {
   "cell_type": "code",
   "execution_count": 34,
   "id": "03a509ab",
   "metadata": {},
   "outputs": [],
   "source": [
    "l2 =[]\n",
    "def odd1(l):\n",
    "    for i in range(1,n):\n",
    "        if i%2 !=0:\n",
    "            l2.append(i)\n",
    "    l2"
   ]
  },
  {
   "cell_type": "code",
   "execution_count": 35,
   "id": "b6c793ba",
   "metadata": {},
   "outputs": [
    {
     "name": "stdout",
     "output_type": "stream",
     "text": [
      "enter the number 10\n",
      "[1, 3, 5, 7, 9, 11, 13, 15, 17, 19, 21, 23, 25, 27, 29, 31, 33, 35, 37, 39, 41, 43, 45, 47, 49, 51, 53, 55, 57, 59, 61, 63, 65, 67, 69, 71, 73, 75, 77, 79, 81, 83, 85, 87, 89, 91, 93, 95, 97, 99, 1, 3, 5, 7, 9, 11, 13, 15, 17, 19, 21, 23, 25, 27, 29, 31, 33, 35, 37, 39, 41, 43, 45, 47, 49, 51, 53, 55, 57, 59, 61, 63, 65, 67, 69, 71, 73, 75, 77, 79, 81, 83, 85, 87, 89, 91, 93, 95, 97, 99, 1, 3, 5, 7, 9, 1, 3, 5, 7, 9]\n"
     ]
    }
   ],
   "source": [
    "l = int(input(\"enter the number \"))\n",
    "odd1(l)\n"
   ]
  },
  {
   "cell_type": "code",
   "execution_count": 31,
   "id": "b0f3107e",
   "metadata": {},
   "outputs": [
    {
     "data": {
      "text/plain": [
       "[1,\n",
       " 2,\n",
       " 3,\n",
       " 4,\n",
       " 5,\n",
       " 6,\n",
       " 7,\n",
       " 8,\n",
       " 9,\n",
       " 10,\n",
       " 11,\n",
       " 12,\n",
       " 13,\n",
       " 14,\n",
       " 15,\n",
       " 16,\n",
       " 17,\n",
       " 18,\n",
       " 19,\n",
       " 20,\n",
       " 21,\n",
       " 22,\n",
       " 23,\n",
       " 24,\n",
       " 25,\n",
       " 26,\n",
       " 27,\n",
       " 28,\n",
       " 29,\n",
       " 30,\n",
       " 31,\n",
       " 32,\n",
       " 33,\n",
       " 34,\n",
       " 35,\n",
       " 36,\n",
       " 37,\n",
       " 38,\n",
       " 39,\n",
       " 40,\n",
       " 41,\n",
       " 42,\n",
       " 43,\n",
       " 44,\n",
       " 45,\n",
       " 46,\n",
       " 47,\n",
       " 48,\n",
       " 49,\n",
       " 50,\n",
       " 51,\n",
       " 52,\n",
       " 53,\n",
       " 54,\n",
       " 55,\n",
       " 56,\n",
       " 57,\n",
       " 58,\n",
       " 59,\n",
       " 60,\n",
       " 61,\n",
       " 62,\n",
       " 63,\n",
       " 64,\n",
       " 65,\n",
       " 66,\n",
       " 67,\n",
       " 68,\n",
       " 69,\n",
       " 70,\n",
       " 71,\n",
       " 72,\n",
       " 73,\n",
       " 74,\n",
       " 75,\n",
       " 76,\n",
       " 77,\n",
       " 78,\n",
       " 79,\n",
       " 80,\n",
       " 81,\n",
       " 82,\n",
       " 83,\n",
       " 84,\n",
       " 85,\n",
       " 86,\n",
       " 87,\n",
       " 88,\n",
       " 89,\n",
       " 90,\n",
       " 91,\n",
       " 92,\n",
       " 93,\n",
       " 94,\n",
       " 95,\n",
       " 96,\n",
       " 97,\n",
       " 98,\n",
       " 99,\n",
       " 100]"
      ]
     },
     "execution_count": 31,
     "metadata": {},
     "output_type": "execute_result"
    }
   ],
   "source": [
    "l1"
   ]
  },
  {
   "cell_type": "code",
   "execution_count": null,
   "id": "24010438",
   "metadata": {},
   "outputs": [],
   "source": []
  }
 ],
 "metadata": {
  "kernelspec": {
   "display_name": "Python 3 (ipykernel)",
   "language": "python",
   "name": "python3"
  },
  "language_info": {
   "codemirror_mode": {
    "name": "ipython",
    "version": 3
   },
   "file_extension": ".py",
   "mimetype": "text/x-python",
   "name": "python",
   "nbconvert_exporter": "python",
   "pygments_lexer": "ipython3",
   "version": "3.11.3"
  }
 },
 "nbformat": 4,
 "nbformat_minor": 5
}
